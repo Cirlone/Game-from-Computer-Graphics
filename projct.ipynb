{
  "nbformat": 4,
  "nbformat_minor": 0,
  "metadata": {
    "colab": {
      "provenance": [],
      "authorship_tag": "ABX9TyOs6g5BzzxN0di1u+ekARfK",
      "include_colab_link": true
    },
    "kernelspec": {
      "name": "python3",
      "display_name": "Python 3"
    },
    "language_info": {
      "name": "python"
    }
  },
  "cells": [
    {
      "cell_type": "markdown",
      "metadata": {
        "id": "view-in-github",
        "colab_type": "text"
      },
      "source": [
        "<a href=\"https://colab.research.google.com/github/Cirlone/CG/blob/main/projct.ipynb\" target=\"_parent\"><img src=\"https://colab.research.google.com/assets/colab-badge.svg\" alt=\"Open In Colab\"/></a>"
      ]
    },
    {
      "cell_type": "code",
      "execution_count": null,
      "metadata": {
        "colab": {
          "base_uri": "https://localhost:8080/"
        },
        "id": "vs3n5N9RWqsw",
        "outputId": "94845350-c5d2-4b43-8d83-c68c59571172"
      },
      "outputs": [
        {
          "output_type": "stream",
          "name": "stderr",
          "text": [
            "<ipython-input-3-ea661784d3e3>:11: FutureWarning: The error_bad_lines argument has been deprecated and will be removed in a future version. Use on_bad_lines in the future.\n",
            "\n",
            "\n",
            "  data = read_csv(filename, names=names, error_bad_lines=False)\n"
          ]
        },
        {
          "output_type": "stream",
          "name": "stdout",
          "text": [
            "(10001, 32)\n"
          ]
        }
      ],
      "source": [
        "from urllib.request import urlopen# Load CSV using Pandas\n",
        "from pandas import read_csv\n",
        "filename = 'Datafiniti_Womens_Shoes_Jun19.csv'\n",
        "names = ['id', 'dateAdded', 'dateUpdated', 'asins', 'brand', 'categories',\n",
        "         'primaryCategories', 'colors', 'dimension', 'ean/upc', 'imageURLs',\n",
        "         'keys', 'manufacturer', 'manufacturerNumber', 'name', 'prices.amountMax',\n",
        "         'prices.amountMin', 'prices.availability', 'prices.color', 'prices.condition',\n",
        "         'prices.currency', 'prices.dateAdded', 'prices.dateSeen', 'prices.isSale',\n",
        "         'prices.merchant', 'prices.offer', 'prices.returnPolicy', 'prices.shipping',\n",
        "         'prices.size', 'prices.sourceURLs', 'sizes', 'sourceURLs']\n",
        "data = read_csv(filename, names=names, error_bad_lines=False)\n",
        "print(data.shape)"
      ]
    },
    {
      "cell_type": "code",
      "source": [],
      "metadata": {
        "id": "omOwwSSLBJqb"
      },
      "execution_count": null,
      "outputs": []
    },
    {
      "cell_type": "code",
      "source": [
        "from pandas import read_csv\n",
        "filename = 'Datafiniti_Womens_Shoes_Jun19.csv'\n",
        "names = ['id', 'dateAdded', 'dateUpdated', 'asins', 'brand', 'categories',\n",
        "         'primaryCategories', 'colors', 'dimension', 'ean/upc', 'imageURLs',\n",
        "         'keys', 'manufacturer', 'manufacturerNumber', 'name', 'prices.amountMax',\n",
        "         'prices.amountMin', 'prices.availability', 'prices.color', 'prices.condition',\n",
        "         'prices.currency', 'prices.dateAdded', 'prices.dateSeen', 'prices.isSale',\n",
        "         'prices.merchant', 'prices.offer', 'prices.returnPolicy', 'prices.shipping',\n",
        "         'prices.size', 'prices.sourceURLs', 'sizes', 'sourceURLs']\n",
        "data = read_csv(filename, names=names)\n",
        "peek = data.head(30)\n",
        "print(peek)"
      ],
      "metadata": {
        "colab": {
          "base_uri": "https://localhost:8080/"
        },
        "id": "8HkXTzy9Nzuk",
        "outputId": "52baf620-ef1b-487b-f639-127b59aafdc1"
      },
      "execution_count": null,
      "outputs": [
        {
          "output_type": "stream",
          "name": "stdout",
          "text": [
            "                      id             dateAdded           dateUpdated  asins  \\\n",
            "0                     id             dateAdded           dateUpdated  asins   \n",
            "1   AWpyySsJAGTnQPR7wNt4  2019-05-01T09:27:22Z  2019-05-01T09:27:22Z    NaN   \n",
            "2   AWpyyyb3AGTnQPR7wN-u  2019-05-01T09:27:19Z  2019-05-01T09:27:19Z    NaN   \n",
            "3   AWpyzlajAGTnQPR7wOX8  2019-05-01T09:26:59Z  2019-05-01T09:26:59Z    NaN   \n",
            "4   AWpyxomE0U_gzG0hkA1q  2019-05-01T09:26:56Z  2019-05-01T09:26:56Z    NaN   \n",
            "5   AWpyxChWJbEilcB6RhWx  2019-05-01T09:26:56Z  2019-05-01T09:26:56Z    NaN   \n",
            "6   AWpytBRKJbEilcB6Rf1i  2019-05-01T09:01:36Z  2019-05-01T09:01:36Z    NaN   \n",
            "7   AWpykVq6JbEilcB6RfDC  2019-05-01T08:08:15Z  2019-05-01T08:17:12Z    NaN   \n",
            "8   AWpyithfAGTnQPR7wKCK  2019-05-01T08:17:11Z  2019-05-01T08:17:11Z    NaN   \n",
            "9   AWpykE4QJbEilcB6Re54  2019-05-01T08:17:11Z  2019-05-01T08:17:11Z    NaN   \n",
            "10  AWpyhLioJbEilcB6Rc3X  2019-05-01T08:17:10Z  2019-05-01T08:17:10Z    NaN   \n",
            "11  AWpyk4cwM263mwCq_ACH  2019-05-01T08:17:02Z  2019-05-01T08:17:02Z    NaN   \n",
            "12  AWpykdyGAGTnQPR7wK11  2019-05-01T08:16:50Z  2019-05-01T08:16:50Z    NaN   \n",
            "13  AWpyhKwjAGTnQPR7wIqj  2019-05-01T08:16:50Z  2019-05-01T08:16:50Z    NaN   \n",
            "14  AWpykfcd0U_gzG0hj-Qi  2019-05-01T08:16:50Z  2019-05-01T08:16:50Z    NaN   \n",
            "15  AWpymp7p0U_gzG0hj-m_  2019-05-01T08:16:49Z  2019-05-01T08:16:49Z    NaN   \n",
            "16  AWpymy1o0U_gzG0hj-ox  2019-05-01T08:08:18Z  2019-05-01T08:08:18Z    NaN   \n",
            "17  AWpyg1c-JbEilcB6Rcjw  2019-05-01T08:03:12Z  2019-05-01T08:03:12Z    NaN   \n",
            "18  AWpyg8JyAGTnQPR7wIev  2019-05-01T08:03:02Z  2019-05-01T08:03:02Z    NaN   \n",
            "19  AWpyYnOf0U_gzG0hj5MA  2019-05-01T07:41:48Z  2019-05-01T07:41:48Z    NaN   \n",
            "20  AWpyWGNcAGTnQPR7wFI9  2019-05-01T07:05:26Z  2019-05-01T07:05:26Z    NaN   \n",
            "21  AWpyZsvBM263mwCq-7Q8  2019-05-01T07:05:26Z  2019-05-01T07:05:26Z    NaN   \n",
            "22  AWpx8LCqJbEilcB6RTsy  2019-05-01T05:20:17Z  2019-05-01T05:20:17Z    NaN   \n",
            "23  AWpx2-_IJbEilcB6RTfc  2019-05-01T05:20:13Z  2019-05-01T05:20:13Z    NaN   \n",
            "24  AWpx8mtXJbEilcB6RTt9  2019-05-01T05:20:12Z  2019-05-01T05:20:12Z    NaN   \n",
            "25  AWpx8ExwM263mwCq-0k8  2019-05-01T05:20:04Z  2019-05-01T05:20:04Z    NaN   \n",
            "26  AWpx8SltM263mwCq-0lj  2019-05-01T05:20:04Z  2019-05-01T05:20:04Z    NaN   \n",
            "27  AWpx3JHC0U_gzG0hjype  2019-05-01T05:20:01Z  2019-05-01T05:20:01Z    NaN   \n",
            "28  AWpx3Ulw0U_gzG0hjyp5  2019-05-01T05:19:41Z  2019-05-01T05:19:41Z    NaN   \n",
            "29  AWpx4KDIJbEilcB6RTiN  2019-05-01T05:15:18Z  2019-05-01T05:15:18Z    NaN   \n",
            "\n",
            "               brand                                    categories  \\\n",
            "0              brand                                    categories   \n",
            "1    City Classified  Clothing,Shoes,Womens Shoes,All Womens Shoes   \n",
            "2           Skechers  Clothing,Shoes,Womens Shoes,All Womens Shoes   \n",
            "3             Floral  Clothing,Shoes,Womens Shoes,All Womens Shoes   \n",
            "4              Jambu  Clothing,Shoes,Womens Shoes,All Womens Shoes   \n",
            "5           Trotters  Clothing,Shoes,Womens Shoes,All Womens Shoes   \n",
            "6             Adidas  Clothing,Shoes,Womens Shoes,All Womens Shoes   \n",
            "7            Fitflop  Clothing,Shoes,Womens Shoes,All Womens Shoes   \n",
            "8   The Highest Heel  Clothing,Shoes,Womens Shoes,All Womens Shoes   \n",
            "9   The Highest Heel  Clothing,Shoes,Womens Shoes,All Womens Shoes   \n",
            "10  The Highest Heel  Clothing,Shoes,Womens Shoes,All Womens Shoes   \n",
            "11     Skechers Work  Womens Shoes,Clothing,All Womens Shoes,Shoes   \n",
            "12    Charles Albert  Clothing,Shoes,Womens Shoes,All Womens Shoes   \n",
            "13      Steve Madden  Clothing,Shoes,Womens Shoes,All Womens Shoes   \n",
            "14              Soda  Clothing,Shoes,Womens Shoes,All Womens Shoes   \n",
            "15       Thalia Sodi  Clothing,Shoes,Womens Shoes,All Womens Shoes   \n",
            "16    Charles Albert  Clothing,Shoes,Womens Shoes,All Womens Shoes   \n",
            "17             ELLIE  Clothing,Shoes,Womens Shoes,All Womens Shoes   \n",
            "18          SoftWalk  Clothing,Shoes,Womens Shoes,All Womens Shoes   \n",
            "19   City Classified  Clothing,Shoes,Womens Shoes,All Womens Shoes   \n",
            "20    White Mountain  Clothing,Shoes,Womens Shoes,All Womens Shoes   \n",
            "21     Western Chief  Clothing,Shoes,Womens Shoes,All Womens Shoes   \n",
            "22            Floral  Clothing,Shoes,Womens Shoes,All Womens Shoes   \n",
            "23        Bare Traps  Clothing,Shoes,Womens Shoes,All Womens Shoes   \n",
            "24              Soda  Clothing,Shoes,Womens Shoes,All Womens Shoes   \n",
            "25          Trotters  Womens Shoes,Clothing,All Womens Shoes,Shoes   \n",
            "26            ONLINE  Clothing,Shoes,Womens Shoes,All Womens Shoes   \n",
            "27   City Classified  Clothing,Shoes,Womens Shoes,All Womens Shoes   \n",
            "28          Bordello  Clothing,Shoes,Womens Shoes,All Womens Shoes   \n",
            "29       Cape Robbin  Clothing,Shoes,Womens Shoes,All Womens Shoes   \n",
            "\n",
            "    primaryCategories                                colors  dimension  \\\n",
            "0   primaryCategories                                colors  dimension   \n",
            "1               Shoes                                 Black        NaN   \n",
            "2               Shoes                                 Taupe        NaN   \n",
            "3               Shoes                                 Black        NaN   \n",
            "4               Shoes                           Black/Multi        NaN   \n",
            "5               Shoes                                 White        NaN   \n",
            "6               Shoes           Metallic Multi Soft Leather        NaN   \n",
            "7               Shoes                            Denim Blue        NaN   \n",
            "8               Shoes                        Black / Silver        NaN   \n",
            "9               Shoes                 Black and White Combo        NaN   \n",
            "10              Shoes                        Black / Silver        NaN   \n",
            "11              Shoes                         Navy/Charcoal        NaN   \n",
            "12              Shoes                                 Black        NaN   \n",
            "13              Shoes                           Black Multi        NaN   \n",
            "14              Shoes                           Light Brown        NaN   \n",
            "15              Shoes                        Natural Snk Pu        NaN   \n",
            "16              Shoes                         Black Leopard        NaN   \n",
            "17              Shoes                                   Red        NaN   \n",
            "18              Shoes  Black Knit Flexible Technical Fabric        NaN   \n",
            "19              Shoes                                 Brown        NaN   \n",
            "20              Shoes                          Black Fabric        NaN   \n",
            "21              Shoes                        Florence Berry        NaN   \n",
            "22              Shoes                                Silver        NaN   \n",
            "23              Shoes                                 Taupe        NaN   \n",
            "24              Shoes                             Tan Brown        NaN   \n",
            "25              Shoes                          Black Patent        NaN   \n",
            "26              Shoes                                 Black        NaN   \n",
            "27              Shoes                                 Black        NaN   \n",
            "28              Shoes                           Black/White        NaN   \n",
            "29              Shoes                                 Black        NaN   \n",
            "\n",
            "         ean/upc  ...                                    prices.dateSeen  \\\n",
            "0      ean / upc  ...                                    prices.dateSeen   \n",
            "1   656000000000  ...                               2019-04-19T07:09:29Z   \n",
            "2   192000000000  ...                               2019-04-24T09:14:11Z   \n",
            "3   709000000000  ...                           2019-04-25T12:35:00.000Z   \n",
            "4   884000000000  ...                           2019-04-30T19:49:00.000Z   \n",
            "5   887000000000  ...                               2019-04-19T07:07:46Z   \n",
            "6   887000000000  ...                               2019-05-01T03:05:44Z   \n",
            "7   193000000000  ...                           2019-04-26T14:38:00.000Z   \n",
            "8   846000000000  ...                           2019-04-25T12:37:00.000Z   \n",
            "9   846000000000  ...                           2019-04-25T12:37:00.000Z   \n",
            "10  846000000000  ...                           2019-04-25T12:37:00.000Z   \n",
            "11  190000000000  ...  2019-04-29T22:40:00.000Z,2019-04-29T22:38:00.000Z   \n",
            "12  642000000000  ...                           2019-04-27T16:59:00.000Z   \n",
            "13  662000000000  ...                               2019-04-21T09:24:06Z   \n",
            "14  791000000000  ...                               2019-04-19T03:27:49Z   \n",
            "15  727000000000  ...                               2019-04-20T12:02:59Z   \n",
            "16  642000000000  ...                               2019-04-22T03:10:28Z   \n",
            "17  843000000000  ...                           2019-04-30T15:12:00.000Z   \n",
            "18  887000000000  ...                           2019-04-30T12:49:00.000Z   \n",
            "19  666000000000  ...                               2019-04-19T07:09:31Z   \n",
            "20  888000000000  ...                               2019-04-19T07:08:39Z   \n",
            "21  607000000000  ...                               2019-04-19T03:14:50Z   \n",
            "22  709000000000  ...                           2019-04-25T12:35:00.000Z   \n",
            "23  825000000000  ...                               2019-04-20T06:11:31Z   \n",
            "24  791000000000  ...                               2019-04-19T03:27:26Z   \n",
            "25  887000000000  ...                               2019-04-19T06:18:42Z   \n",
            "26  889000000000  ...                               2019-04-20T09:00:35Z   \n",
            "27  656000000000  ...                               2019-04-19T07:09:27Z   \n",
            "28  829000000000  ...                           2019-04-27T16:56:00.000Z   \n",
            "29  666000000000  ...                               2019-04-19T06:59:45Z   \n",
            "\n",
            "    prices.isSale  prices.merchant          prices.offer  prices.returnPolicy  \\\n",
            "0   prices.isSale  prices.merchant          prices.offer  prices.returnPolicy   \n",
            "1             NaN              NaN           Online only                  NaN   \n",
            "2             NaN              NaN           Online only                  NaN   \n",
            "3             NaN              NaN           Online only                  NaN   \n",
            "4             NaN              NaN  Online only: 20% off                  NaN   \n",
            "5             NaN              NaN  Online only: 50% off                  NaN   \n",
            "6             NaN              NaN           Online only                  NaN   \n",
            "7             NaN              NaN           Online only                  NaN   \n",
            "8             NaN              NaN  Online only: 26% off                  NaN   \n",
            "9             NaN              NaN  Online only: 26% off                  NaN   \n",
            "10            NaN              NaN           Online only                  NaN   \n",
            "11            NaN              NaN  Online only: 13% off                  NaN   \n",
            "12            NaN              NaN           Online only                  NaN   \n",
            "13            NaN              NaN           Online only                  NaN   \n",
            "14            NaN              NaN           Online only                  NaN   \n",
            "15            NaN              NaN  Online only: 20% off                  NaN   \n",
            "16            NaN              NaN           Online only                  NaN   \n",
            "17            NaN              NaN           Online only                  NaN   \n",
            "18            NaN              NaN           Online only                  NaN   \n",
            "19            NaN              NaN           Online only                  NaN   \n",
            "20            NaN              NaN  Online only: 78% off                  NaN   \n",
            "21            NaN              NaN  Online only: 58% off                  NaN   \n",
            "22            NaN              NaN           Online only                  NaN   \n",
            "23            NaN              NaN  Online only: 24% off                  NaN   \n",
            "24            NaN              NaN           Online only                  NaN   \n",
            "25            NaN              NaN           Online only                  NaN   \n",
            "26            NaN              NaN           Online only                  NaN   \n",
            "27            NaN              NaN           Online only                  NaN   \n",
            "28            NaN              NaN  Online only: 18% off                  NaN   \n",
            "29            NaN              NaN           Online only                  NaN   \n",
            "\n",
            "    prices.shipping  prices.size  \\\n",
            "0   prices.shipping  prices.size   \n",
            "1               NaN            8   \n",
            "2               NaN       6 M US   \n",
            "3               NaN            5   \n",
            "4               NaN    9.5 BM US   \n",
            "5               NaN           11   \n",
            "6               NaN         11 M   \n",
            "7               NaN            9   \n",
            "8               NaN       Size 6   \n",
            "9               NaN       Size 5   \n",
            "10              NaN       Size 8   \n",
            "11              NaN            7   \n",
            "12              NaN      6 BM US   \n",
            "13              NaN           7M   \n",
            "14              NaN          5.5   \n",
            "15              NaN            6   \n",
            "16              NaN      8 BM US   \n",
            "17              NaN            6   \n",
            "18              NaN           12   \n",
            "19              NaN      9 BM US   \n",
            "20              NaN          6 M   \n",
            "21              NaN            6   \n",
            "22              NaN            8   \n",
            "23              NaN          7.5   \n",
            "24              NaN       US 6.5   \n",
            "25              NaN           10   \n",
            "26              NaN          6.5   \n",
            "27              NaN            6   \n",
            "28              NaN           11   \n",
            "29              NaN     10 BM US   \n",
            "\n",
            "                                    prices.sourceURLs      sizes  \\\n",
            "0                                   prices.sourceURLs      sizes   \n",
            "1   https://www.walmart.com/ip/City-Classified-Sty...          8   \n",
            "2   https://www.walmart.com/ip/Skechers-Women-S-Yo...     6 M US   \n",
            "3   https://www.walmart.com/ip/FLORAL-Pearl-Women-...          5   \n",
            "4   https://www.walmart.com/ip/Jambu-Women-s-AMAL-...  9.5 BM US   \n",
            "5   https://www.walmart.com/ip/Women-s-Trotters-Bl...         11   \n",
            "6   https://www.walmart.com/ip/Women-s-SoftWalk-Ha...       11 M   \n",
            "7   https://www.walmart.com/ip/Fitflop-Lulu-Art-De...          9   \n",
            "8   https://www.walmart.com/ip/THHSPECTRUM-31-6-Pr...     Size 6   \n",
            "9   https://www.walmart.com/ip/THHSPECTRUM-31-6-Pr...     Size 5   \n",
            "10  https://www.walmart.com/ip/THHSPECTRUM-31-6-Pr...     Size 8   \n",
            "11  https://www.walmart.com/ip/Women-s-Skechers-Wo...          7   \n",
            "12  https://www.walmart.com/ip/Charles-Albert-Wome...    6 BM US   \n",
            "13  https://www.walmart.com/ip/Steve-Madden-Women-...         7M   \n",
            "14  https://www.walmart.com/ip/Chance-by-Soda-Bike...        5.5   \n",
            "15  https://www.walmart.com/ip/Thalia-Sodi-Womens-...          6   \n",
            "16  https://www.walmart.com/ip/Charles-Albert-Wome...    8 BM US   \n",
            "17  https://www.walmart.com/ip/Ellie-Shoes-E-609-G...          6   \n",
            "18  https://www.walmart.com/ip/Women-s-Sampson-Sne...         12   \n",
            "19  https://www.walmart.com/ip/City-Classified-Wom...    9 BM US   \n",
            "20  https://www.walmart.com/ip/White-Mountain-Raym...        6 M   \n",
            "21  https://www.walmart.com/ip/Western-Chief-Women...          6   \n",
            "22  https://www.walmart.com/ip/FLORAL-Elaine-Women...          8   \n",
            "23  https://www.walmart.com/ip/Baretraps-Women-s-A...        7.5   \n",
            "24  https://www.walmart.com/ip/Pure-by-Soda-Ankle-...     US 6.5   \n",
            "25  https://www.walmart.com/ip/Women-s-Louise-Pump...         10   \n",
            "26  https://www.walmart.com/ip/Carrini-CA-Collecti...        6.5   \n",
            "27  https://www.walmart.com/ip/City-Classified-Ele...          6   \n",
            "28  https://www.walmart.com/ip/2-Inch-Heel-Two-Ton...         11   \n",
            "29  https://www.walmart.com/ip/Cape-Robbin-Women-s...   10 BM US   \n",
            "\n",
            "                                           sourceURLs  \n",
            "0                                          sourceURLs  \n",
            "1   https://www.walmart.com/ip/City-Classified-Sty...  \n",
            "2   https://www.walmart.com/ip/Skechers-Women-S-Yo...  \n",
            "3   https://www.walmart.com/ip/FLORAL-Pearl-Women-...  \n",
            "4   https://www.walmart.com/ip/Jambu-Women-s-AMAL-...  \n",
            "5   https://www.walmart.com/ip/Women-s-Trotters-Bl...  \n",
            "6   https://www.walmart.com/ip/Women-s-SoftWalk-Ha...  \n",
            "7   https://www.walmart.com/ip/Fitflop-Lulu-Art-De...  \n",
            "8   https://www.walmart.com/ip/THHSPECTRUM-31-6-Pr...  \n",
            "9   https://www.walmart.com/ip/THHSPECTRUM-31-6-Pr...  \n",
            "10  https://www.walmart.com/ip/THHSPECTRUM-31-6-Pr...  \n",
            "11  https://www.walmart.com/ip/Women-s-Skechers-Wo...  \n",
            "12  https://www.walmart.com/ip/Charles-Albert-Wome...  \n",
            "13  https://www.walmart.com/ip/Steve-Madden-Women-...  \n",
            "14  https://www.walmart.com/ip/Chance-by-Soda-Bike...  \n",
            "15  https://www.walmart.com/ip/Thalia-Sodi-Womens-...  \n",
            "16  https://www.walmart.com/ip/Charles-Albert-Wome...  \n",
            "17  https://www.walmart.com/ip/Ellie-Shoes-E-609-G...  \n",
            "18  https://www.walmart.com/ip/Women-s-Sampson-Sne...  \n",
            "19  https://www.walmart.com/ip/City-Classified-Wom...  \n",
            "20  https://www.walmart.com/ip/White-Mountain-Raym...  \n",
            "21  https://www.walmart.com/ip/Western-Chief-Women...  \n",
            "22  https://www.walmart.com/ip/FLORAL-Elaine-Women...  \n",
            "23  https://www.walmart.com/ip/Baretraps-Women-s-A...  \n",
            "24  https://www.walmart.com/ip/Pure-by-Soda-Ankle-...  \n",
            "25  https://www.walmart.com/ip/Women-s-Louise-Pump...  \n",
            "26  https://www.walmart.com/ip/Carrini-CA-Collecti...  \n",
            "27  https://www.walmart.com/ip/City-Classified-Ele...  \n",
            "28  https://www.walmart.com/ip/2-Inch-Heel-Two-Ton...  \n",
            "29  https://www.walmart.com/ip/Cape-Robbin-Women-s...  \n",
            "\n",
            "[30 rows x 32 columns]\n"
          ]
        }
      ]
    },
    {
      "cell_type": "code",
      "source": [
        "from pandas import read_csv\n",
        "filename = 'Datafiniti_Womens_Shoes_Jun19.csv'\n",
        "names = ['id', 'dateAdded', 'dateUpdated', 'asins', 'brand', 'categories',\n",
        "         'primaryCategories', 'colors', 'dimension', 'ean/upc', 'imageURLs',\n",
        "         'keys', 'manufacturer', 'manufacturerNumber', 'name', 'prices.amountMax',\n",
        "         'prices.amountMin', 'prices.availability', 'prices.color', 'prices.condition',\n",
        "         'prices.currency', 'prices.dateAdded', 'prices.dateSeen', 'prices.isSale',\n",
        "         'prices.merchant', 'prices.offer', 'prices.returnPolicy', 'prices.shipping',\n",
        "         'prices.size', 'prices.sourceURLs', 'sizes', 'sourceURLs']\n",
        "data = read_csv(filename, names=names)\n",
        "shape = data.shape\n",
        "print(shape)"
      ],
      "metadata": {
        "colab": {
          "base_uri": "https://localhost:8080/"
        },
        "id": "vVKgPvpFN7_E",
        "outputId": "dbdaaaab-507e-454d-a814-bb72270792e5"
      },
      "execution_count": null,
      "outputs": [
        {
          "output_type": "stream",
          "name": "stdout",
          "text": [
            "(10001, 32)\n"
          ]
        }
      ]
    },
    {
      "cell_type": "code",
      "source": [
        "from pandas import read_csv, set_option, to_numeric\n",
        "filename = 'Datafiniti_Womens_Shoes_Jun19.csv'\n",
        "names = ['id', 'dateAdded', 'dateUpdated', 'asins', 'brand', 'categories',\n",
        "         'primaryCategories', 'colors', 'dimension', 'ean/upc', 'imageURLs',\n",
        "         'keys', 'manufacturer', 'manufacturerNumber', 'name', 'prices.amountMax',\n",
        "         'prices.amountMin', 'prices.availability', 'prices.color', 'prices.condition',\n",
        "         'prices.currency', 'prices.dateAdded', 'prices.dateSeen', 'prices.isSale',\n",
        "         'prices.merchant', 'prices.offer', 'prices.returnPolicy', 'prices.shipping',\n",
        "         'prices.size', 'prices.sourceURLs', 'sizes', 'sourceURLs']\n",
        "data = read_csv(filename, names=names)\n",
        "set_option('display.width', 100)\n",
        "numeric_columns = ['prices.amountMax', 'prices.amountMin']\n",
        "data[numeric_columns] = data[numeric_columns].apply(lambda x: to_numeric(x, errors='coerce'))\n",
        "correlations = data[numeric_columns].corr(method='pearson')\n",
        "print(correlations)"
      ],
      "metadata": {
        "colab": {
          "base_uri": "https://localhost:8080/"
        },
        "id": "021O6mtYOW1S",
        "outputId": "ebf03a80-ebf5-4c89-8f08-a88cf5fb8a04"
      },
      "execution_count": null,
      "outputs": [
        {
          "output_type": "stream",
          "name": "stdout",
          "text": [
            "                  prices.amountMax  prices.amountMin\n",
            "prices.amountMax               1.0               1.0\n",
            "prices.amountMin               1.0               1.0\n"
          ]
        }
      ]
    },
    {
      "cell_type": "code",
      "source": [
        "from pandas import read_csv, set_option, to_numeric     #schimb marimea\n",
        "from numpy import set_printoptions\n",
        "from sklearn.preprocessing import MinMaxScaler\n",
        "\n",
        "filename = 'Datafiniti_Womens_Shoes_Jun19.csv'\n",
        "names = ['id', 'dateAdded', 'dateUpdated', 'asins', 'brand', 'categories',\n",
        "         'primaryCategories', 'colors', 'dimension', 'ean/upc', 'imageURLs',\n",
        "         'keys', 'manufacturer', 'manufacturerNumber', 'name', 'prices.amountMax',\n",
        "         'prices.amountMin', 'prices.availability', 'prices.color', 'prices.condition',\n",
        "         'prices.currency', 'prices.dateAdded', 'prices.dateSeen', 'prices.isSale',\n",
        "         'prices.merchant', 'prices.offer', 'prices.returnPolicy', 'prices.shipping',\n",
        "         'prices.size', 'prices.sourceURLs', 'sizes', 'sourceURLs']\n",
        "\n",
        "dataframe = read_csv(filename, names=names, on_bad_lines='skip')\n",
        "array = dataframe.values\n",
        "\n",
        "numeric_columns = ['prices.amountMax', 'prices.amountMin']\n",
        "X = dataframe[numeric_columns].apply(to_numeric, errors='coerce').values\n",
        "Y = array[:, 23]\n",
        "\n",
        "scaler = MinMaxScaler(feature_range=(0, 1))\n",
        "rescaledX = scaler.fit_transform(X)\n",
        "set_printoptions(precision=3)\n",
        "\n",
        "print(rescaledX[0:10, :])\n"
      ],
      "metadata": {
        "colab": {
          "base_uri": "https://localhost:8080/"
        },
        "id": "KOUeAUXQBLrt",
        "outputId": "556a9e1c-d7a0-4577-9c82-60246e07a54a"
      },
      "execution_count": null,
      "outputs": [
        {
          "output_type": "stream",
          "name": "stdout",
          "text": [
            "[[  nan   nan]\n",
            " [0.005 0.005]\n",
            " [0.016 0.016]\n",
            " [0.009 0.009]\n",
            " [0.024 0.024]\n",
            " [0.008 0.008]\n",
            " [0.015 0.015]\n",
            " [0.015 0.015]\n",
            " [0.011 0.011]\n",
            " [0.011 0.011]]\n"
          ]
        }
      ]
    },
    {
      "cell_type": "code",
      "source": [
        "from sklearn.preprocessing import StandardScaler   #stadardizare\n",
        "from pandas import read_csv\n",
        "from numpy import set_printoptions\n",
        "import pandas as pd\n",
        "\n",
        "filename = 'Datafiniti_Womens_Shoes_Jun19.csv'\n",
        "names = ['id', 'dateAdded', 'dateUpdated', 'asins', 'brand', 'categories',\n",
        "         'primaryCategories', 'colors', 'dimension', 'ean/upc', 'imageURLs',\n",
        "         'keys', 'manufacturer', 'manufacturerNumber', 'name', 'prices.amountMax',\n",
        "         'prices.amountMin', 'prices.availability', 'prices.color', 'prices.condition',\n",
        "         'prices.currency', 'prices.dateAdded', 'prices.dateSeen', 'prices.isSale',\n",
        "         'prices.merchant', 'prices.offer', 'prices.returnPolicy', 'prices.shipping',\n",
        "         'prices.size', 'prices.sourceURLs', 'sizes', 'sourceURLs']\n",
        "\n",
        "dataframe = read_csv(filename, names=names, error_bad_lines=False)\n",
        "\n",
        "# Filter out non-numeric columns\n",
        "numeric_columns = ['prices.amountMax', 'prices.amountMin']\n",
        "X = dataframe[numeric_columns].apply(pd.to_numeric, errors='coerce').values\n",
        "\n",
        "# Use StandardScaler\n",
        "scaler = StandardScaler().fit(X)\n",
        "rescaledX = scaler.transform(X)\n",
        "\n",
        "set_printoptions(precision=3)\n",
        "print(rescaledX[0:10, :])\n"
      ],
      "metadata": {
        "colab": {
          "base_uri": "https://localhost:8080/"
        },
        "id": "lmYagUlrDcBH",
        "outputId": "98a5f17d-446d-44cf-8225-bdd522783f94"
      },
      "execution_count": null,
      "outputs": [
        {
          "output_type": "stream",
          "name": "stderr",
          "text": [
            "<ipython-input-8-033d1a4324ce>:15: FutureWarning: The error_bad_lines argument has been deprecated and will be removed in a future version. Use on_bad_lines in the future.\n",
            "\n",
            "\n",
            "  dataframe = read_csv(filename, names=names, error_bad_lines=False)\n",
            "Skipping line 3375: expected 32 fields, saw 37\n",
            "Skipping line 4934: expected 32 fields, saw 52\n",
            "Skipping line 10381: expected 32 fields, saw 66\n",
            "Skipping line 10443: expected 32 fields, saw 54\n",
            "Skipping line 12676: expected 32 fields, saw 33\n",
            "Skipping line 12738: expected 32 fields, saw 52\n",
            "Skipping line 12867: expected 32 fields, saw 33\n",
            "Skipping line 13005: expected 32 fields, saw 33\n",
            "Skipping line 13302: expected 32 fields, saw 37\n",
            "Skipping line 14008: expected 32 fields, saw 38\n",
            "Skipping line 14675: expected 32 fields, saw 33\n",
            "Skipping line 14797: expected 32 fields, saw 33\n",
            "Skipping line 14861: expected 32 fields, saw 33\n",
            "Skipping line 14903: expected 32 fields, saw 33\n",
            "Skipping line 14967: expected 32 fields, saw 53\n",
            "Skipping line 15031: expected 32 fields, saw 33\n",
            "Skipping line 15073: expected 32 fields, saw 53\n",
            "Skipping line 15088: expected 32 fields, saw 69\n",
            "\n"
          ]
        },
        {
          "output_type": "stream",
          "name": "stdout",
          "text": [
            "[[   nan    nan]\n",
            " [-0.252 -0.252]\n",
            " [ 0.067  0.067]\n",
            " [-0.134 -0.134]\n",
            " [ 0.322  0.322]\n",
            " [-0.148 -0.148]\n",
            " [ 0.059  0.059]\n",
            " [ 0.043  0.043]\n",
            " [-0.061 -0.061]\n",
            " [-0.06  -0.06 ]]\n"
          ]
        }
      ]
    },
    {
      "cell_type": "code",
      "source": [
        "from sklearn.preprocessing import Binarizer   #transform in binar\n",
        "from pandas import read_csv\n",
        "from numpy import set_printoptions\n",
        "import numpy as np\n",
        "\n",
        "filename = 'Datafiniti_Womens_Shoes_Jun19.csv'\n",
        "names = ['id', 'dateAdded', 'dateUpdated', 'asins', 'brand', 'categories',\n",
        "         'primaryCategories', 'colors', 'dimension', 'ean/upc', 'imageURLs',\n",
        "         'keys', 'manufacturer', 'manufacturerNumber', 'name', 'prices.amountMax',\n",
        "         'prices.amountMin', 'prices.availability', 'prices.color', 'prices.condition',\n",
        "         'prices.currency', 'prices.dateAdded', 'prices.dateSeen', 'prices.isSale',\n",
        "         'prices.merchant', 'prices.offer', 'prices.returnPolicy', 'prices.shipping',\n",
        "         'prices.size', 'prices.sourceURLs', 'sizes', 'sourceURLs']\n",
        "\n",
        "dataframe = read_csv(filename, names=names, error_bad_lines=False)\n",
        "array = dataframe.values\n",
        "\n",
        "columns_to_binarize = ['prices.amountMax', 'prices.amountMin']\n",
        "\n",
        "numeric_mask = np.logical_and.reduce([np.char.isnumeric(array[:, dataframe.columns.get_loc(col)].astype(str)) for col in columns_to_binarize])\n",
        "X = array[numeric_mask][:, dataframe.columns.get_loc(columns_to_binarize[0]):dataframe.columns.get_loc(columns_to_binarize[-1]) + 1].astype(float)\n",
        "\n",
        "binarizer = Binarizer(threshold=0.0).fit(X)\n",
        "binaryX = binarizer.transform(X)\n",
        "\n",
        "set_printoptions(precision=3)\n",
        "print(binaryX[0:10, :])\n"
      ],
      "metadata": {
        "colab": {
          "base_uri": "https://localhost:8080/"
        },
        "id": "hb63xYPUDpxc",
        "outputId": "8c5b0f30-1873-47f6-8b15-897faf7ea9ca"
      },
      "execution_count": null,
      "outputs": [
        {
          "output_type": "stream",
          "name": "stderr",
          "text": [
            "<ipython-input-11-21404d6fda2a>:16: FutureWarning: The error_bad_lines argument has been deprecated and will be removed in a future version. Use on_bad_lines in the future.\n",
            "\n",
            "\n",
            "  dataframe = read_csv(filename, names=names, error_bad_lines=False)\n",
            "Skipping line 3375: expected 32 fields, saw 37\n",
            "Skipping line 4934: expected 32 fields, saw 52\n",
            "Skipping line 10381: expected 32 fields, saw 66\n",
            "Skipping line 10443: expected 32 fields, saw 54\n",
            "Skipping line 12676: expected 32 fields, saw 33\n",
            "Skipping line 12738: expected 32 fields, saw 52\n",
            "Skipping line 12867: expected 32 fields, saw 33\n",
            "Skipping line 13005: expected 32 fields, saw 33\n",
            "Skipping line 13302: expected 32 fields, saw 37\n",
            "Skipping line 14008: expected 32 fields, saw 38\n",
            "Skipping line 14675: expected 32 fields, saw 33\n",
            "Skipping line 14797: expected 32 fields, saw 33\n",
            "Skipping line 14861: expected 32 fields, saw 33\n",
            "Skipping line 14903: expected 32 fields, saw 33\n",
            "Skipping line 14967: expected 32 fields, saw 53\n",
            "Skipping line 15031: expected 32 fields, saw 33\n",
            "Skipping line 15073: expected 32 fields, saw 53\n",
            "Skipping line 15088: expected 32 fields, saw 69\n",
            "\n"
          ]
        },
        {
          "output_type": "stream",
          "name": "stdout",
          "text": [
            "[[1. 1.]\n",
            " [1. 1.]\n",
            " [1. 1.]\n",
            " [1. 1.]\n",
            " [1. 1.]\n",
            " [1. 1.]\n",
            " [1. 1.]\n",
            " [1. 1.]\n",
            " [1. 1.]\n",
            " [1. 1.]]\n"
          ]
        }
      ]
    },
    {
      "cell_type": "code",
      "source": [
        "from pandas import read_csv\n",
        "from sklearn.model_selection import KFold\n",
        "from sklearn.model_selection import cross_val_score\n",
        "from sklearn.ensemble import RandomForestClassifier\n",
        "filename = 'Datafiniti_Womens_Shoes_Jun19.csv'\n",
        "names = ['id', 'dateAdded', 'dateUpdated', 'asins', 'brand', 'categories',\n",
        "         'primaryCategories', 'colors', 'dimension', 'ean/upc', 'imageURLs',\n",
        "         'keys', 'manufacturer', 'manufacturerNumber', 'name', 'prices.amountMax',\n",
        "         'prices.amountMin', 'prices.availability', 'prices.color', 'prices.condition',\n",
        "         'prices.currency', 'prices.dateAdded', 'prices.dateSeen', 'prices.isSale',\n",
        "         'prices.merchant', 'prices.offer', 'prices.returnPolicy', 'prices.shipping',\n",
        "         'prices.size', 'prices.sourceURLs', 'sizes', 'sourceURLs']\n",
        "dataframe = read_csv(filename, names=names)\n",
        "array = dataframe.values\n",
        "X = array[:,0:8]\n",
        "Y = array[:,8]\n",
        "num_trees = 100\n",
        "max_features = 3\n",
        "\n",
        "kfold = KFold(n_splits=10, shuffle = True, random_state=7)\n",
        "model = RandomForestClassifier(n_estimators=num_trees, max_features=max_features)\n",
        "results = cross_val_score(model, X, Y, cv=kfold)"
      ],
      "metadata": {
        "colab": {
          "base_uri": "https://localhost:8080/",
          "height": 304
        },
        "id": "Yitbp7ArLDlL",
        "outputId": "62891f98-cce2-448e-bf77-9bf3b4d50133"
      },
      "execution_count": null,
      "outputs": [
        {
          "output_type": "error",
          "ename": "ParserError",
          "evalue": "Error tokenizing data. C error: Expected 32 fields in line 3375, saw 37\n",
          "traceback": [
            "\u001b[0;31m---------------------------------------------------------------------------\u001b[0m",
            "\u001b[0;31mParserError\u001b[0m                               Traceback (most recent call last)",
            "\u001b[0;32m<ipython-input-20-0c303eea03c1>\u001b[0m in \u001b[0;36m<cell line: 13>\u001b[0;34m()\u001b[0m\n\u001b[1;32m     11\u001b[0m          \u001b[0;34m'prices.merchant'\u001b[0m\u001b[0;34m,\u001b[0m \u001b[0;34m'prices.offer'\u001b[0m\u001b[0;34m,\u001b[0m \u001b[0;34m'prices.returnPolicy'\u001b[0m\u001b[0;34m,\u001b[0m \u001b[0;34m'prices.shipping'\u001b[0m\u001b[0;34m,\u001b[0m\u001b[0;34m\u001b[0m\u001b[0;34m\u001b[0m\u001b[0m\n\u001b[1;32m     12\u001b[0m          'prices.size', 'prices.sourceURLs', 'sizes', 'sourceURLs']\n\u001b[0;32m---> 13\u001b[0;31m \u001b[0mdataframe\u001b[0m \u001b[0;34m=\u001b[0m \u001b[0mread_csv\u001b[0m\u001b[0;34m(\u001b[0m\u001b[0mfilename\u001b[0m\u001b[0;34m,\u001b[0m \u001b[0mnames\u001b[0m\u001b[0;34m=\u001b[0m\u001b[0mnames\u001b[0m\u001b[0;34m)\u001b[0m\u001b[0;34m\u001b[0m\u001b[0;34m\u001b[0m\u001b[0m\n\u001b[0m\u001b[1;32m     14\u001b[0m \u001b[0marray\u001b[0m \u001b[0;34m=\u001b[0m \u001b[0mdataframe\u001b[0m\u001b[0;34m.\u001b[0m\u001b[0mvalues\u001b[0m\u001b[0;34m\u001b[0m\u001b[0;34m\u001b[0m\u001b[0m\n\u001b[1;32m     15\u001b[0m \u001b[0mX\u001b[0m \u001b[0;34m=\u001b[0m \u001b[0marray\u001b[0m\u001b[0;34m[\u001b[0m\u001b[0;34m:\u001b[0m\u001b[0;34m,\u001b[0m\u001b[0;36m0\u001b[0m\u001b[0;34m:\u001b[0m\u001b[0;36m8\u001b[0m\u001b[0;34m]\u001b[0m\u001b[0;34m\u001b[0m\u001b[0;34m\u001b[0m\u001b[0m\n",
            "\u001b[0;32m/usr/local/lib/python3.10/dist-packages/pandas/util/_decorators.py\u001b[0m in \u001b[0;36mwrapper\u001b[0;34m(*args, **kwargs)\u001b[0m\n\u001b[1;32m    209\u001b[0m                 \u001b[0;32melse\u001b[0m\u001b[0;34m:\u001b[0m\u001b[0;34m\u001b[0m\u001b[0;34m\u001b[0m\u001b[0m\n\u001b[1;32m    210\u001b[0m                     \u001b[0mkwargs\u001b[0m\u001b[0;34m[\u001b[0m\u001b[0mnew_arg_name\u001b[0m\u001b[0;34m]\u001b[0m \u001b[0;34m=\u001b[0m \u001b[0mnew_arg_value\u001b[0m\u001b[0;34m\u001b[0m\u001b[0;34m\u001b[0m\u001b[0m\n\u001b[0;32m--> 211\u001b[0;31m             \u001b[0;32mreturn\u001b[0m \u001b[0mfunc\u001b[0m\u001b[0;34m(\u001b[0m\u001b[0;34m*\u001b[0m\u001b[0margs\u001b[0m\u001b[0;34m,\u001b[0m \u001b[0;34m**\u001b[0m\u001b[0mkwargs\u001b[0m\u001b[0;34m)\u001b[0m\u001b[0;34m\u001b[0m\u001b[0;34m\u001b[0m\u001b[0m\n\u001b[0m\u001b[1;32m    212\u001b[0m \u001b[0;34m\u001b[0m\u001b[0m\n\u001b[1;32m    213\u001b[0m         \u001b[0;32mreturn\u001b[0m \u001b[0mcast\u001b[0m\u001b[0;34m(\u001b[0m\u001b[0mF\u001b[0m\u001b[0;34m,\u001b[0m \u001b[0mwrapper\u001b[0m\u001b[0;34m)\u001b[0m\u001b[0;34m\u001b[0m\u001b[0;34m\u001b[0m\u001b[0m\n",
            "\u001b[0;32m/usr/local/lib/python3.10/dist-packages/pandas/util/_decorators.py\u001b[0m in \u001b[0;36mwrapper\u001b[0;34m(*args, **kwargs)\u001b[0m\n\u001b[1;32m    329\u001b[0m                     \u001b[0mstacklevel\u001b[0m\u001b[0;34m=\u001b[0m\u001b[0mfind_stack_level\u001b[0m\u001b[0;34m(\u001b[0m\u001b[0;34m)\u001b[0m\u001b[0;34m,\u001b[0m\u001b[0;34m\u001b[0m\u001b[0;34m\u001b[0m\u001b[0m\n\u001b[1;32m    330\u001b[0m                 )\n\u001b[0;32m--> 331\u001b[0;31m             \u001b[0;32mreturn\u001b[0m \u001b[0mfunc\u001b[0m\u001b[0;34m(\u001b[0m\u001b[0;34m*\u001b[0m\u001b[0margs\u001b[0m\u001b[0;34m,\u001b[0m \u001b[0;34m**\u001b[0m\u001b[0mkwargs\u001b[0m\u001b[0;34m)\u001b[0m\u001b[0;34m\u001b[0m\u001b[0;34m\u001b[0m\u001b[0m\n\u001b[0m\u001b[1;32m    332\u001b[0m \u001b[0;34m\u001b[0m\u001b[0m\n\u001b[1;32m    333\u001b[0m         \u001b[0;31m# error: \"Callable[[VarArg(Any), KwArg(Any)], Any]\" has no\u001b[0m\u001b[0;34m\u001b[0m\u001b[0;34m\u001b[0m\u001b[0m\n",
            "\u001b[0;32m/usr/local/lib/python3.10/dist-packages/pandas/io/parsers/readers.py\u001b[0m in \u001b[0;36mread_csv\u001b[0;34m(filepath_or_buffer, sep, delimiter, header, names, index_col, usecols, squeeze, prefix, mangle_dupe_cols, dtype, engine, converters, true_values, false_values, skipinitialspace, skiprows, skipfooter, nrows, na_values, keep_default_na, na_filter, verbose, skip_blank_lines, parse_dates, infer_datetime_format, keep_date_col, date_parser, dayfirst, cache_dates, iterator, chunksize, compression, thousands, decimal, lineterminator, quotechar, quoting, doublequote, escapechar, comment, encoding, encoding_errors, dialect, error_bad_lines, warn_bad_lines, on_bad_lines, delim_whitespace, low_memory, memory_map, float_precision, storage_options)\u001b[0m\n\u001b[1;32m    948\u001b[0m     \u001b[0mkwds\u001b[0m\u001b[0;34m.\u001b[0m\u001b[0mupdate\u001b[0m\u001b[0;34m(\u001b[0m\u001b[0mkwds_defaults\u001b[0m\u001b[0;34m)\u001b[0m\u001b[0;34m\u001b[0m\u001b[0;34m\u001b[0m\u001b[0m\n\u001b[1;32m    949\u001b[0m \u001b[0;34m\u001b[0m\u001b[0m\n\u001b[0;32m--> 950\u001b[0;31m     \u001b[0;32mreturn\u001b[0m \u001b[0m_read\u001b[0m\u001b[0;34m(\u001b[0m\u001b[0mfilepath_or_buffer\u001b[0m\u001b[0;34m,\u001b[0m \u001b[0mkwds\u001b[0m\u001b[0;34m)\u001b[0m\u001b[0;34m\u001b[0m\u001b[0;34m\u001b[0m\u001b[0m\n\u001b[0m\u001b[1;32m    951\u001b[0m \u001b[0;34m\u001b[0m\u001b[0m\n\u001b[1;32m    952\u001b[0m \u001b[0;34m\u001b[0m\u001b[0m\n",
            "\u001b[0;32m/usr/local/lib/python3.10/dist-packages/pandas/io/parsers/readers.py\u001b[0m in \u001b[0;36m_read\u001b[0;34m(filepath_or_buffer, kwds)\u001b[0m\n\u001b[1;32m    609\u001b[0m \u001b[0;34m\u001b[0m\u001b[0m\n\u001b[1;32m    610\u001b[0m     \u001b[0;32mwith\u001b[0m \u001b[0mparser\u001b[0m\u001b[0;34m:\u001b[0m\u001b[0;34m\u001b[0m\u001b[0;34m\u001b[0m\u001b[0m\n\u001b[0;32m--> 611\u001b[0;31m         \u001b[0;32mreturn\u001b[0m \u001b[0mparser\u001b[0m\u001b[0;34m.\u001b[0m\u001b[0mread\u001b[0m\u001b[0;34m(\u001b[0m\u001b[0mnrows\u001b[0m\u001b[0;34m)\u001b[0m\u001b[0;34m\u001b[0m\u001b[0;34m\u001b[0m\u001b[0m\n\u001b[0m\u001b[1;32m    612\u001b[0m \u001b[0;34m\u001b[0m\u001b[0m\n\u001b[1;32m    613\u001b[0m \u001b[0;34m\u001b[0m\u001b[0m\n",
            "\u001b[0;32m/usr/local/lib/python3.10/dist-packages/pandas/io/parsers/readers.py\u001b[0m in \u001b[0;36mread\u001b[0;34m(self, nrows)\u001b[0m\n\u001b[1;32m   1776\u001b[0m                     \u001b[0mcolumns\u001b[0m\u001b[0;34m,\u001b[0m\u001b[0;34m\u001b[0m\u001b[0;34m\u001b[0m\u001b[0m\n\u001b[1;32m   1777\u001b[0m                     \u001b[0mcol_dict\u001b[0m\u001b[0;34m,\u001b[0m\u001b[0;34m\u001b[0m\u001b[0;34m\u001b[0m\u001b[0m\n\u001b[0;32m-> 1778\u001b[0;31m                 \u001b[0;34m)\u001b[0m \u001b[0;34m=\u001b[0m \u001b[0mself\u001b[0m\u001b[0;34m.\u001b[0m\u001b[0m_engine\u001b[0m\u001b[0;34m.\u001b[0m\u001b[0mread\u001b[0m\u001b[0;34m(\u001b[0m  \u001b[0;31m# type: ignore[attr-defined]\u001b[0m\u001b[0;34m\u001b[0m\u001b[0;34m\u001b[0m\u001b[0m\n\u001b[0m\u001b[1;32m   1779\u001b[0m                     \u001b[0mnrows\u001b[0m\u001b[0;34m\u001b[0m\u001b[0;34m\u001b[0m\u001b[0m\n\u001b[1;32m   1780\u001b[0m                 )\n",
            "\u001b[0;32m/usr/local/lib/python3.10/dist-packages/pandas/io/parsers/c_parser_wrapper.py\u001b[0m in \u001b[0;36mread\u001b[0;34m(self, nrows)\u001b[0m\n\u001b[1;32m    228\u001b[0m         \u001b[0;32mtry\u001b[0m\u001b[0;34m:\u001b[0m\u001b[0;34m\u001b[0m\u001b[0;34m\u001b[0m\u001b[0m\n\u001b[1;32m    229\u001b[0m             \u001b[0;32mif\u001b[0m \u001b[0mself\u001b[0m\u001b[0;34m.\u001b[0m\u001b[0mlow_memory\u001b[0m\u001b[0;34m:\u001b[0m\u001b[0;34m\u001b[0m\u001b[0;34m\u001b[0m\u001b[0m\n\u001b[0;32m--> 230\u001b[0;31m                 \u001b[0mchunks\u001b[0m \u001b[0;34m=\u001b[0m \u001b[0mself\u001b[0m\u001b[0;34m.\u001b[0m\u001b[0m_reader\u001b[0m\u001b[0;34m.\u001b[0m\u001b[0mread_low_memory\u001b[0m\u001b[0;34m(\u001b[0m\u001b[0mnrows\u001b[0m\u001b[0;34m)\u001b[0m\u001b[0;34m\u001b[0m\u001b[0;34m\u001b[0m\u001b[0m\n\u001b[0m\u001b[1;32m    231\u001b[0m                 \u001b[0;31m# destructive to chunks\u001b[0m\u001b[0;34m\u001b[0m\u001b[0;34m\u001b[0m\u001b[0m\n\u001b[1;32m    232\u001b[0m                 \u001b[0mdata\u001b[0m \u001b[0;34m=\u001b[0m \u001b[0m_concatenate_chunks\u001b[0m\u001b[0;34m(\u001b[0m\u001b[0mchunks\u001b[0m\u001b[0;34m)\u001b[0m\u001b[0;34m\u001b[0m\u001b[0;34m\u001b[0m\u001b[0m\n",
            "\u001b[0;32m/usr/local/lib/python3.10/dist-packages/pandas/_libs/parsers.pyx\u001b[0m in \u001b[0;36mpandas._libs.parsers.TextReader.read_low_memory\u001b[0;34m()\u001b[0m\n",
            "\u001b[0;32m/usr/local/lib/python3.10/dist-packages/pandas/_libs/parsers.pyx\u001b[0m in \u001b[0;36mpandas._libs.parsers.TextReader._read_rows\u001b[0;34m()\u001b[0m\n",
            "\u001b[0;32m/usr/local/lib/python3.10/dist-packages/pandas/_libs/parsers.pyx\u001b[0m in \u001b[0;36mpandas._libs.parsers.TextReader._tokenize_rows\u001b[0;34m()\u001b[0m\n",
            "\u001b[0;32m/usr/local/lib/python3.10/dist-packages/pandas/_libs/parsers.pyx\u001b[0m in \u001b[0;36mpandas._libs.parsers.raise_parser_error\u001b[0;34m()\u001b[0m\n",
            "\u001b[0;31mParserError\u001b[0m: Error tokenizing data. C error: Expected 32 fields in line 3375, saw 37\n"
          ]
        }
      ]
    }
  ]
}